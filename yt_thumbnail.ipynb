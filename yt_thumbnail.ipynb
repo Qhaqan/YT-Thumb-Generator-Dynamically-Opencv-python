{
  "nbformat": 4,
  "nbformat_minor": 0,
  "metadata": {
    "colab": {
      "provenance": []
    },
    "kernelspec": {
      "name": "python3",
      "display_name": "Python 3"
    },
    "language_info": {
      "name": "python"
    }
  },
  "cells": [
    {
      "cell_type": "code",
      "execution_count": 1,
      "metadata": {
        "colab": {
          "base_uri": "https://localhost:8080/"
        },
        "id": "QcoFBOSNP4wJ",
        "outputId": "1f0d3d46-2a2f-455c-bb33-98cdf137fdfd"
      },
      "outputs": [
        {
          "output_type": "stream",
          "name": "stdout",
          "text": [
            "Requirement already satisfied: opencv-python in /usr/local/lib/python3.11/dist-packages (4.11.0.86)\n",
            "Requirement already satisfied: numpy>=1.21.2 in /usr/local/lib/python3.11/dist-packages (from opencv-python) (2.0.2)\n",
            "Requirement already satisfied: pillow in /usr/local/lib/python3.11/dist-packages (11.2.1)\n",
            "Requirement already satisfied: opencv-python-headless in /usr/local/lib/python3.11/dist-packages (4.11.0.86)\n",
            "Requirement already satisfied: pillow in /usr/local/lib/python3.11/dist-packages (11.2.1)\n",
            "Requirement already satisfied: numpy>=1.21.2 in /usr/local/lib/python3.11/dist-packages (from opencv-python-headless) (2.0.2)\n"
          ]
        }
      ],
      "source": [
        "!pip install opencv-python\n",
        "!pip install pillow\n",
        "# Install dependencies\n",
        "!pip install opencv-python-headless pillow\n",
        "\n",
        "# Download Hindi font from a reliable source\n",
        "#!wget -O lohit-devanagari.ttf https://raw.githubusercontent.com/JulienMa/GoogleFonts-ttf/master/ofl/lohitdevanagari/Lohit-Devanagari.ttf\n",
        "\n"
      ]
    },
    {
      "cell_type": "code",
      "source": [
        "from PIL import Image, ImageDraw, ImageFont\n",
        "import cv2\n",
        "import numpy as np\n",
        "\n",
        "video_path = \"/content/videoplayback (28).mp4\"\n",
        "\n",
        "# Extract frames\n",
        "cap = cv2.VideoCapture(video_path)\n",
        "fps = cap.get(cv2.CAP_PROP_FPS)\n",
        "\n",
        "def extract_frame(sec):\n",
        "    cap.set(cv2.CAP_PROP_POS_FRAMES, int(fps * sec))\n",
        "    ret, frame = cap.read()\n",
        "    if not ret:\n",
        "        return None\n",
        "    rgb = cv2.cvtColor(frame, cv2.COLOR_BGR2RGB)\n",
        "    return Image.fromarray(rgb)\n",
        "\n",
        "frame1 = extract_frame(1)\n",
        "frame2 = extract_frame(3)\n",
        "cap.release()\n",
        "\n",
        "# Resize frames\n",
        "frame_width, frame_height = 320, 180\n",
        "frame1 = frame1.resize((frame_width, frame_height))\n",
        "frame2 = frame2.resize((frame_width, frame_height))\n",
        "\n",
        "# Final thumbnail canvas\n",
        "top_bar_height = 80\n",
        "mid_bar_height = 80\n",
        "final_width = frame_width * 2\n",
        "final_height = top_bar_height + mid_bar_height + frame_height\n",
        "thumbnail = Image.new(\"RGB\", (final_width, final_height), color=\"white\")\n",
        "draw = ImageDraw.Draw(thumbnail)\n",
        "\n",
        "# Load fonts\n",
        "font_en = ImageFont.truetype(\"/content/dejavu-sans-bold.ttf\", 36)\n",
        "font_hi = ImageFont.truetype(\"/content/Lohit-Devanagari.ttf\", 38)\n",
        "\n",
        "# === Top red bar with English text ===\n",
        "draw.rectangle([0, 0, final_width, top_bar_height], fill=\"red\")\n",
        "en_text = \"Hot Healthy Meal Secret\"\n",
        "bbox = draw.textbbox((0, 0), en_text, font=font_en)\n",
        "text_w = bbox[2] - bbox[0]\n",
        "text_h = bbox[3] - bbox[1]\n",
        "draw.text(((final_width - text_w) // 2, (top_bar_height - text_h) // 2), en_text, fill=\"white\", font=font_en)\n",
        "\n",
        "# === White bar with Hindi text ===\n",
        "hi_text = \"गरम स्वस्थ भोजन का रहस्य!\"\n",
        "bbox = draw.textbbox((0, 0), hi_text, font=font_hi)\n",
        "text_w = bbox[2] - bbox[0]\n",
        "text_h = bbox[3] - bbox[1]\n",
        "draw.text(((final_width - text_w) // 2, top_bar_height + (mid_bar_height - text_h) // 2), hi_text, fill=\"black\", font=font_hi)\n",
        "\n",
        "# Paste frames\n",
        "thumbnail.paste(frame1, (0, top_bar_height + mid_bar_height))\n",
        "thumbnail.paste(frame2, (frame_width, top_bar_height + mid_bar_height))\n",
        "\n",
        "# Save\n",
        "output_path = \"final_thumbnail.jpg\"\n",
        "thumbnail.save(output_path)\n",
        "thumbnail.show()\n"
      ],
      "metadata": {
        "id": "fi9xcB8PQRyg"
      },
      "execution_count": 4,
      "outputs": []
    }
  ]
}